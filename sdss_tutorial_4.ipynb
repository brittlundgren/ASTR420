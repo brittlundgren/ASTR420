{
 "cells": [
  {
   "cell_type": "markdown",
   "metadata": {},
   "source": [
    "# SDSS Tutorial #4:  The Spatial Distribution of Galaxies\n",
    "\n",
    "[Prof. Britt Lundgren, University of North Carolina Asheville](https://astrophysics.wp.unca.edu/britt-lundgren/)\n",
    "\n"
   ]
  },
  {
   "cell_type": "markdown",
   "metadata": {},
   "source": [
    "## Objective\n",
    " - Using Sloan Digital Sky Survey (SDSS) data to explore how stars, galaxies, and the Milky Way's dusty interstellar medium are distributed in the sky.\n",
    "\n",
    "## Learning Outcomes\n",
    "\n",
    "By the end of this notebook, you should be able to: \n",
    " - Use galactic coordinates to map the locations of celestial objects in the sky, relative to the Milky Way\n",
    " - Understand the reasons for differences in the spatial distributions of stars and galaxies on the sky\n",
    " - Understand how the interstellar medium of the Milky Way affects the number, brightness, and color of distant galaxies observed by the SDSS.\n",
    " - Understand the wavelength-dependence of dust extinction\n",
    " \n",
    "\n",
    "## Prerequisites\n",
    "\n",
    "* This notebook assumes that the user has basic proficiency in the **Python** programming language.\n",
    "* This notebook uses **SQL queries** to select data from the SDSS database. If the SQL language and/or the SDSS database is new to you, we recommend this [brief tutorial](http://cas.sdss.org/dr16/en/help/howto/search/searchhowtohome.aspx). \n",
    "* This notebook is intended to be run in the [SciServer Compute](http://www.sciserver.org/tools/compute/) platform. If you have not used SciServer before, please review the [first notebook](https://escip.io/notebooks/sdss_tutorial_1.html) in this series of activities. \n",
    "\n",
    "Before we begin, let's fetch some required files:"
   ]
  },
  {
   "cell_type": "code",
   "execution_count": 1,
   "metadata": {},
   "outputs": [
    {
     "name": "stdout",
     "output_type": "stream",
     "text": [
      "images imported\n"
     ]
    }
   ],
   "source": [
    "# Import required images for this notebook\n",
    "\n",
    "import os\n",
    "\n",
    "if not os.path.exists('img'):\n",
    "    !mkdir img\n",
    "    \n",
    "imgs = ['Realm_0079.jpg','galcoords.jpeg', 'gallat.jpeg', 'dr12_legacy_plus_segue_coverage.png', 'Realm_0084.jpg']\n",
    "for i in imgs:\n",
    "    if not os.path.exists('img/'+i):\n",
    "        os.system('wget --no-check-certificate --content-disposition https://github.com/brittlundgren/ASTR420/raw/update_2023/img/'+i)\n",
    "        os.system('mv %s img/' % i)\n",
    "        \n",
    "print('images imported')"
   ]
  },
  {
   "cell_type": "markdown",
   "metadata": {},
   "source": [
    "**NOTE: In order for embedded images to display properly in this notebook, it may be necessary to restart the kernel and reopen this notebook before continuing. Do not re-compile the cell above after restarting.**\n",
    "\n",
    "\n",
    "## Introduction\n",
    "\n",
    "In [Chapter 3 of \"The Realm of the Nebulae\"](https://archive.org/details/in.ernet.dli.2015.210893/page/n75/mode/2up), Edwin Hubble discusses the large-scale distribution of \"nebulae\" on the sky.  \n",
    "\n",
    "Below is a figure of Hubble's observations, which showed that at high galactic latitudes, the density of galaxies on the sky is appoximately constant, while numbers are suppressed at latitudes close to the Milky Way's disk, where their observation is obscured by high densities of stars and the interstellar medium.\n",
    "\n",
    "<center><img src=\"img/Realm_0079.jpg\"/></center>\n",
    "\n",
    "\n",
    "The **galactic coordinate system** defines the Sun as the origin. Galactic longitude (l) is measured with primary direction from the Sun to the center of the galaxy in the galactic plane, while the galactic latitude (b) measures the angle of the object above the galactic plane.\n",
    "\n",
    "\n",
    "\n",
    "<center><img src=\"img/gallat.jpeg\"/></center>\n",
    "\n",
    "In this tutorial, we will explore the distribution of stars and galaxies in the SDSS dataset, and also map the levels of dust extinction affecting distant galaxies, as a function of galactic latitude.\n",
    " \n",
    " Let's start, as always, by importing all of the most important libraries that we're likely to need..."
   ]
  },
  {
   "cell_type": "code",
   "execution_count": 2,
   "metadata": {},
   "outputs": [
    {
     "name": "stdout",
     "output_type": "stream",
     "text": [
      "SciServer libraries imported\n",
      "Settings applied\n",
      "OK\n"
     ]
    }
   ],
   "source": [
    "# Import Python libraries to work with SciServer (see http://www.sciserver.org/docs/sciscript-python/)\n",
    "\n",
    "import SciServer.CasJobs as CasJobs # query with CasJobs, the primary database for the SDSS\n",
    "import SciServer.SkyServer as SkyServer # show individual objects through SkyServer\n",
    "import SciServer.SciDrive           # read/write to/from SciDrive, cloud-based storage for your work\n",
    "import numpy as np                  # standard Python library for math operations\n",
    "import pandas                       # package for structuring and visualizing data\n",
    "import matplotlib.pyplot as plt     # package for graphing and visualization \n",
    "print('SciServer libraries imported')\n",
    "\n",
    "# Apply some special settings to the imported libraries\n",
    "\n",
    "# ensures columns get written completely in notebook\n",
    "pandas.set_option('display.max_colwidth', -1)\n",
    "# do *not* show python warnings \n",
    "import warnings\n",
    "warnings.filterwarnings('ignore')\n",
    "from IPython.display import display, Image, SVG, Math\n",
    "print('Settings applied')\n",
    "\n",
    "# So that we're able to make plots, import matplotlib and some of its modules\n",
    "\n",
    "import matplotlib\n",
    "%config InlineBackend.rc = {}\n",
    "from matplotlib import pylab as plt\n",
    "%matplotlib inline\n",
    "print('OK')\n"
   ]
  },
  {
   "cell_type": "markdown",
   "metadata": {},
   "source": [
    "-----------------\n",
    "\n",
    "## Mapping celestial objects in galactic coordinates\n",
    "\n",
    "Let's follow Hubble's lead and investigate how uniformly (or not) stars and galaxies appear to be in the sky.\n",
    "\n",
    "The query below returns the number of photometric objects in a defined search area, in coordinates of RA and Dec:\n"
   ]
  },
  {
   "cell_type": "code",
   "execution_count": 36,
   "metadata": {},
   "outputs": [
    {
     "data": {
      "text/html": [
       "<div>\n",
       "<style scoped>\n",
       "    .dataframe tbody tr th:only-of-type {\n",
       "        vertical-align: middle;\n",
       "    }\n",
       "\n",
       "    .dataframe tbody tr th {\n",
       "        vertical-align: top;\n",
       "    }\n",
       "\n",
       "    .dataframe thead th {\n",
       "        text-align: right;\n",
       "    }\n",
       "</style>\n",
       "<table border=\"1\" class=\"dataframe\">\n",
       "  <thead>\n",
       "    <tr style=\"text-align: right;\">\n",
       "      <th></th>\n",
       "      <th>total</th>\n",
       "      <th>Galaxies</th>\n",
       "      <th>Stars</th>\n",
       "      <th>Other</th>\n",
       "    </tr>\n",
       "  </thead>\n",
       "  <tbody>\n",
       "    <tr>\n",
       "      <th>0</th>\n",
       "      <td>1621</td>\n",
       "      <td>488</td>\n",
       "      <td>1133</td>\n",
       "      <td>0</td>\n",
       "    </tr>\n",
       "  </tbody>\n",
       "</table>\n",
       "</div>"
      ],
      "text/plain": [
       "   total  Galaxies  Stars  Other\n",
       "0  1621   488       1133   0    "
      ]
     },
     "execution_count": 36,
     "metadata": {},
     "output_type": "execute_result"
    }
   ],
   "source": [
    "# Here's an example query to count all of the objects in a rectangular search in RA and Dec coordinates.\n",
    "#\n",
    "query=\"\"\"\n",
    "SELECT count(*) as 'total',\n",
    "    sum( case when (Type=3) then 1 else 0 end) as 'Galaxies',\n",
    "    sum( case when (Type=6) then 1 else 0 end) as 'Stars',\n",
    "    sum( case when (Type not in (3,6)) then 1 else 0 end) as 'Other'\n",
    "FROM PhotoPrimary \n",
    "WHERE (ra between 265.4 and 267.4) and (dec between 30 and 31) \n",
    "\"\"\"\n",
    "obj_counts = CasJobs.executeQuery(query, \"dr16\")\n",
    "obj_counts\n",
    "\n",
    "# Note: you can return the number of galaxies in the search area with the following command:\n",
    "#\n",
    "# print(obj_counts['Galaxies'][0])\n",
    "#\n",
    "# And you can return the total number of objects in the search area with:\n",
    "# \n",
    "# print(obj_counts['total'][0])"
   ]
  },
  {
   "cell_type": "markdown",
   "metadata": {},
   "source": [
    "**YOUR TURN: Modify the example query provided above to search for specified ranges in galactic coordinates (rather than in the equatorial coordinates of RA and Dec).** \n",
    "\n",
    "To find the column names for galactic latitude and longitude, refer to the [PhotoPrimary](https://skyserver.sdss.org/dr16/en/help/browser/browser.aspx#&&history=description+PhotoPrimary+V) table."
   ]
  },
  {
   "cell_type": "code",
   "execution_count": 37,
   "metadata": {},
   "outputs": [],
   "source": [
    "# YOUR CODE HERE"
   ]
  },
  {
   "cell_type": "markdown",
   "metadata": {},
   "source": [
    "Note: that some choices of galactic coordinates will return no objects. A count of zero objects likely indicates that you have selected coordinates that are outside of the SDSS imaging footprint. Shown below is the SDSS Legacy and SEGUE Sky Coverage in equatorial coordinates (Credit: [SDSS](https://www.sdss4.org/dr16/))\n",
    "<center><img src=\"img/dr12_legacy_plus_segue_coverage.png\"/></center>\n",
    "\n"
   ]
  },
  {
   "cell_type": "markdown",
   "metadata": {},
   "source": [
    "**Now, measure and plot the relative number density (e.g., the fraction of objects that are galaxies in a given area on the sky), as a function of galactic latitude.**  You might approach this by sampling areas of the sky at different galactic latitudes, each time measuring what fraction of the total number of objects are galaxies. Then put all of your measurements together in a plot so you can visualize and interpret the results.\n",
    "\n",
    "Things to note:\n",
    "- Due to the spherical nature of sky coordinates, measuring the area on the sky defined by a range of \"b\" and \"l\" (galactic latitude and longitude) is a little complicated.  By measuring the **relative number** of each type of object, you can get around needing to actually calculate the solid angle of sky that you're sampling when you make these measurements. \n",
    "\n",
    "- You should not restrict your search to objects with spectra; so you only need to query the [PhotoPrimary](https://skyserver.sdss.org/dr16/en/help/browser/browser.aspx#&&history=description+PhotoPrimary+V) table. "
   ]
  },
  {
   "cell_type": "code",
   "execution_count": 5,
   "metadata": {},
   "outputs": [],
   "source": [
    "# YOUR CODE HERE"
   ]
  },
  {
   "cell_type": "markdown",
   "metadata": {},
   "source": [
    "**Does the fractional number of galaxies, you have plotted versus galactic latitude look similar to [Hubble's plot](https://archive.org/details/in.ernet.dli.2015.210893/page/n83/mode/2up) from \"The Realm of the Nebulae\" (shown below)?** \n",
    "\n",
    "Note that Hubble's plot shows the fraction of objects that are galaxies on the y-axis in **log-scale**. If you haven't already done that, [add a logarithmic scaling to your y-axis](https://matplotlib.org/stable/api/_as_gen/matplotlib.pyplot.semilogy.html).\n",
    "\n",
    "<center><img src=\"img/Realm_0084.jpg\"/></center>"
   ]
  },
  {
   "cell_type": "markdown",
   "metadata": {},
   "source": [
    "**Discuss your findings in the cell below:**"
   ]
  },
  {
   "cell_type": "markdown",
   "metadata": {},
   "source": [
    "Your interpretation here."
   ]
  },
  {
   "cell_type": "markdown",
   "metadata": {},
   "source": [
    "-------------\n",
    "## Extinction and Reddening from Dust in the Interstellar Medium\n",
    "\n",
    "Dust in the interstellar medium of the Milky Way serves to dim the light from background sources. We might expect that, if the universe is isotropic and homogeneous, then distant galaxies will have a similar mix of characteristics, regardless of their location on the sky.  Let's use this simple assumption to test the effect of dust reddening and extinction by the Milky Way.\n",
    "\n",
    "**In the cell below, plot the mean g-r color of galaxies as a function of galactic latitude.**  (Make sure you are using the model magnitudes, without any extinction correction!)\n",
    "\n",
    "\n"
   ]
  },
  {
   "cell_type": "code",
   "execution_count": 41,
   "metadata": {},
   "outputs": [],
   "source": [
    "# YOUR CODE HERE"
   ]
  },
  {
   "cell_type": "markdown",
   "metadata": {},
   "source": [
    "**Interpret your findings in the cell below.**"
   ]
  },
  {
   "cell_type": "markdown",
   "metadata": {},
   "source": [
    "Your interpretation here."
   ]
  },
  {
   "cell_type": "markdown",
   "metadata": {},
   "source": [
    "**In the cell below, plot the mean g magnitude of galaxies as a function of galactic latitude.**  (Make sure you are using the model magnitudes, without any extinction correction!)\n"
   ]
  },
  {
   "cell_type": "code",
   "execution_count": null,
   "metadata": {},
   "outputs": [],
   "source": [
    "# YOUR CODE HERE"
   ]
  },
  {
   "cell_type": "markdown",
   "metadata": {},
   "source": [
    "**Interpret your findings in the cell below.**"
   ]
  },
  {
   "cell_type": "markdown",
   "metadata": {},
   "source": [
    "Your interpretation here."
   ]
  },
  {
   "cell_type": "markdown",
   "metadata": {},
   "source": [
    "**If you use the \"de-reddened\" magnitudes to calculate galaxy color, do your results change?**  Explore this question and plot of your findings below.\n"
   ]
  },
  {
   "cell_type": "code",
   "execution_count": 24,
   "metadata": {},
   "outputs": [],
   "source": [
    "# YOUR CODE HERE"
   ]
  },
  {
   "cell_type": "markdown",
   "metadata": {},
   "source": [
    "**Interpret your findings below**"
   ]
  },
  {
   "cell_type": "markdown",
   "metadata": {},
   "source": [
    "Your interpretation here."
   ]
  },
  {
   "cell_type": "markdown",
   "metadata": {},
   "source": [
    "____\n",
    "## Exploring the Wavelength-Dependence of Dust Reddening\n",
    "\n",
    "The SDSS [PhotoPrimary table](https://skyserver.sdss.org/dr12/en/help/browser/browser.aspx#&&history=description+PhotoPrimary+V) provides measurements of dust extinction (e.g., \"extinction_g\") for each object in each of the 5 photometric filters: u,g,r,i, & z.  \n",
    "\n",
    "**Measure and plot the mean extinction as a function of galactic latitude, for each of the photometric filters.** Overplot each of the filter measurements on the same figure.  Is the amplitude of the dust extinction the same or different, in each wavlength band?"
   ]
  },
  {
   "cell_type": "code",
   "execution_count": 32,
   "metadata": {},
   "outputs": [],
   "source": [
    "# YOUR CODE HERE"
   ]
  },
  {
   "cell_type": "markdown",
   "metadata": {},
   "source": [
    "**Interpret your findings in the cell below.**"
   ]
  },
  {
   "cell_type": "markdown",
   "metadata": {},
   "source": [
    "Your interpretation here."
   ]
  }
 ],
 "metadata": {
  "kernelspec": {
   "display_name": "Python 3",
   "language": "python",
   "name": "python3"
  },
  "language_info": {
   "codemirror_mode": {
    "name": "ipython",
    "version": 3
   },
   "file_extension": ".py",
   "mimetype": "text/x-python",
   "name": "python",
   "nbconvert_exporter": "python",
   "pygments_lexer": "ipython3",
   "version": "3.6.6"
  }
 },
 "nbformat": 4,
 "nbformat_minor": 2
}

{
 "cells": [
  {
   "cell_type": "markdown",
   "metadata": {},
   "source": [
    "# ASTR 420 - Week 7:  \"The Distribution of Nebulae\" \n",
    "\n",
    "In Chapter 3 of \"The Realm of the Nebulae\", Hubble discusses the large-scale distribution of \"nebulae\" on the sky.  \n",
    "\n",
    "Below is a figure of Hubble's observations, which showed that at high galactic latitudes, the density of galaxies on the sky is appoximately constant, while numbers are suppressed at latitudes close to the Milky Way's disk, where their observation is obscured by high densities of stars and the interstellar medium.\n",
    "\n",
    "![GalaxyCounts](img/Realm_0079.jpg)\n",
    "\n",
    "The **galactic coordinate system** defines the Sun as the origin. Galactic longitude (l) is measured with primary direction from the Sun to the center of the galaxy in the galactic plane, while the galactic latitude (b) measures the angle of the object above the galactic plane.\n",
    "\n",
    "![GalaxyCoords](img/Galactic_coordinates.JPG)\n",
    "\n",
    "\n",
    "**In this tutorial, we will explore the distribution of stars and galaxies in the SDSS dataset, and also map the levels of dust extinction affecting distant galaxies, as a function of galactic latitude.**\n",
    " \n",
    " Let's start, as always, by importing all of the most important libraries that we're likely to need..."
   ]
  },
  {
   "cell_type": "code",
   "execution_count": 1,
   "metadata": {},
   "outputs": [
    {
     "name": "stdout",
     "output_type": "stream",
     "text": [
      "SciServer libraries imported\n",
      "Settings applied\n",
      "OK\n"
     ]
    }
   ],
   "source": [
    "# Import Python libraries to work with SciServer (see http://www.sciserver.org/docs/sciscript-python/)\n",
    "\n",
    "import SciServer.CasJobs as CasJobs # query with CasJobs, the primary database for the SDSS\n",
    "import SciServer.SkyServer as SkyServer # show individual objects through SkyServer\n",
    "import SciServer.SciDrive           # read/write to/from SciDrive, cloud-based storage for your work\n",
    "import numpy as np                  # standard Python library for math operations\n",
    "import pandas                       # package for structuring and visualizing data\n",
    "import matplotlib.pyplot as plt     # package for graphing and visualization \n",
    "print('SciServer libraries imported')\n",
    "\n",
    "# Apply some special settings to the imported libraries\n",
    "\n",
    "# ensures columns get written completely in notebook\n",
    "pandas.set_option('display.max_colwidth', -1)\n",
    "# do *not* show python warnings \n",
    "import warnings\n",
    "warnings.filterwarnings('ignore')\n",
    "from IPython.display import display, Image, SVG, Math\n",
    "print('Settings applied')\n",
    "\n",
    "# So that we're able to make plots, import matplotlib and some of its modules\n",
    "\n",
    "import matplotlib\n",
    "%config InlineBackend.rc = {}\n",
    "from matplotlib import pylab as plt\n",
    "%matplotlib inline\n",
    "print('OK')\n"
   ]
  },
  {
   "cell_type": "markdown",
   "metadata": {},
   "source": [
    "-----------------\n",
    "\n",
    "## Mapping the distribution of stars and galaxies and other objects in galactic coordinates\n",
    "\n",
    "Let's follow Hubble's lead and investigate how uniformly (or not) stars and galaxies appear to be in the sky.\n",
    "\n",
    "The query below returns the number of photometric objects in a defined search area, in coordinates of RA and Dec.  \n",
    "\n",
    "1. Modify this query to search for specified ranges in **galactic coordinates** and analyze the returned counts. \n",
    "2. Then, for both stars and galaxies, plot the relative number density of (e.g., fraction, by type, of objects per square degree on the sky), as a function of galactic latitude.  In other words, sample areas of the sky at different galactic latitudes, each time measuring what fraction of the total number of objects are galaxies, what fraction are stars, etc., Then put it all together in a plot so you can interpret the results.\n",
    "3. **Questions to answer:** Do stars and galaxies have different distributions on the sky?  Where (in galactic coordinates) do you see more stars than galaxies, and vice versa?  \n",
    "\n",
    "Things to note:\n",
    "- Due to the spherical nature of sky coordinates, measuring the area on the sky defined by a range of \"b\" and \"l\" (galactic latitude and longitude) is a little complicated.  By measuring the **relative number** of each type of object (i.e., the fraction of all objects they represent in your search area), you can get around needing to actually calculate the solid angle of sky that you're sampling when you make these measurements. \n",
    "\n",
    "- You should not restrict your search to objects with spectra. So, you need only query the [PhotoPrimary](https://skyserver.sdss.org/dr12/en/help/browser/browser.aspx#&&history=description+PhotoPrimary+V) table. \n"
   ]
  },
  {
   "cell_type": "code",
   "execution_count": 7,
   "metadata": {},
   "outputs": [
    {
     "data": {
      "text/html": [
       "<div>\n",
       "<style scoped>\n",
       "    .dataframe tbody tr th:only-of-type {\n",
       "        vertical-align: middle;\n",
       "    }\n",
       "\n",
       "    .dataframe tbody tr th {\n",
       "        vertical-align: top;\n",
       "    }\n",
       "\n",
       "    .dataframe thead th {\n",
       "        text-align: right;\n",
       "    }\n",
       "</style>\n",
       "<table border=\"1\" class=\"dataframe\">\n",
       "  <thead>\n",
       "    <tr style=\"text-align: right;\">\n",
       "      <th></th>\n",
       "      <th>total</th>\n",
       "      <th>Galaxies</th>\n",
       "      <th>Stars</th>\n",
       "      <th>Other</th>\n",
       "    </tr>\n",
       "  </thead>\n",
       "  <tbody>\n",
       "    <tr>\n",
       "      <th>0</th>\n",
       "      <td>212195</td>\n",
       "      <td>130570</td>\n",
       "      <td>81625</td>\n",
       "      <td>0</td>\n",
       "    </tr>\n",
       "  </tbody>\n",
       "</table>\n",
       "</div>"
      ],
      "text/plain": [
       "    total  Galaxies  Stars  Other\n",
       "0  212195  130570    81625  0    "
      ]
     },
     "execution_count": 7,
     "metadata": {},
     "output_type": "execute_result"
    }
   ],
   "source": [
    "# Here's an example query to count all of the objects in a rectangular search in RA and Dec coordinates.\n",
    "#\n",
    "# Modify the rectangular search box to sample the survey at different latitudes in GALACTIC COORDINATES\n",
    "#\n",
    "query=\"\"\"\n",
    "SELECT count(*) as 'total',\n",
    "    sum( case when (Type=3) then 1 else 0 end) as 'Galaxies',\n",
    "    sum( case when (Type=6) then 1 else 0 end) as 'Stars',\n",
    "    sum( case when (Type not in (3,6)) then 1 else 0 end) as 'Other'\n",
    "FROM PhotoPrimary \n",
    "WHERE (ra between 179.5 and 182.3) and (dec between -1.0 and 1.8) \n",
    "\"\"\"\n",
    "obj_counts = CasJobs.executeQuery(query, \"dr16\")\n",
    "obj_counts\n",
    "\n",
    "# Note that you can return the number of galaxies in the search area with the following command:\n",
    "#\n",
    "# print(obj_counts['Galaxies'][0])"
   ]
  },
  {
   "cell_type": "code",
   "execution_count": 22,
   "metadata": {},
   "outputs": [],
   "source": [
    "# your data analysis (calculations & plot) here"
   ]
  },
  {
   "cell_type": "code",
   "execution_count": 16,
   "metadata": {},
   "outputs": [
    {
     "name": "stdout",
     "output_type": "stream",
     "text": [
      "[ 0. 10. 20. 30. 40. 50. 60. 70. 80. 90.]\n",
      "0.0823281753848039\n",
      "0.1235748424034516\n",
      "0.30260557682946854\n",
      "0.4373468650512748\n",
      "0.5232062613297409\n",
      "0.5903595092407707\n",
      "0.6179550646453099\n",
      "0.6403595024335726\n",
      "0.6558484831368175\n",
      "0.652356282379377\n"
     ]
    }
   ],
   "source": [
    "# Here's an example query to count all of the objects in a rectangular search in RA and Dec coordinates.\n",
    "#\n",
    "# Modify the rectangular search box to sample the survey at different latitudes in GALACTIC COORDINATES\n",
    "#\n",
    "brange = np.linspace(0,90,10)\n",
    "print(brange)\n",
    "galfrac = []\n",
    "\n",
    "for b in brange:\n",
    "    bmin = b-1.\n",
    "    bmax = b+1.\n",
    "    query=\"\"\"\n",
    "    SELECT count(*) as 'total',\n",
    "        sum( case when (Type=3) then 1 else 0 end) as 'Galaxies',\n",
    "        sum( case when (Type=6) then 1 else 0 end) as 'Stars',\n",
    "        sum( case when (Type not in (3,6)) then 1 else 0 end) as 'Other'\n",
    "    FROM PhotoPrimary \n",
    "    WHERE (b between %f and %f)\n",
    "    \"\"\"  % (bmin,bmax)\n",
    "    obj_counts = CasJobs.executeQuery(query, \"dr16\")\n",
    "    obj_counts\n",
    "\n",
    "    galfraction = obj_counts['Galaxies'][0]/obj_counts['total'][0]\n",
    "    print(galfraction)\n",
    "    galfrac.append(galfraction)\n",
    "    \n",
    "# Note that you can return the number of galaxies in the search area with the following command:\n",
    "#\n",
    "# print(obj_counts['Galaxies'][0])"
   ]
  },
  {
   "cell_type": "markdown",
   "metadata": {},
   "source": [
    "Does the fractional number of galaxies, as a function of galactic latitude look similar to Hubble's plot from \"The Realm of the Nebulae\"?\n",
    "\n",
    "![extinction](img/Realm_0084.jpg)"
   ]
  },
  {
   "cell_type": "markdown",
   "metadata": {},
   "source": [
    "#### Comment on your findings here."
   ]
  },
  {
   "cell_type": "markdown",
   "metadata": {},
   "source": [
    "-------------\n",
    "## Extinction and Reddening from Dust in the Interstellar Medium\n",
    "\n",
    "Dust in the interstellar medium of the Milky Way serves to dim the light from background sources. We might expect that, if the universe is isotropic and homogeneous, then distant galaxies will have a similar mix of characteristics, regardless of their location on the sky.  Let's use this simple assumption to test the effect of dust reddening and extinction by the Milky Way.\n",
    "\n",
    "**In the cell below, generate plots of the mean color and magnitude of galaxies as a function of galactic latitude.**  (Make sure you are using the model magnitudes, without any extinction correction!  The choice of filters is yours to make.)\n",
    "\n",
    "\n"
   ]
  },
  {
   "cell_type": "code",
   "execution_count": null,
   "metadata": {},
   "outputs": [],
   "source": [
    "# your code here"
   ]
  },
  {
   "cell_type": "markdown",
   "metadata": {},
   "source": [
    "**If you use the \"dereddened\" magnitudes to calculate galaxy color, do your results change?**  Plot of your findings below.\n"
   ]
  },
  {
   "cell_type": "code",
   "execution_count": null,
   "metadata": {},
   "outputs": [],
   "source": [
    "# your code here"
   ]
  },
  {
   "cell_type": "markdown",
   "metadata": {},
   "source": [
    "The SDSS [PhotoPrimary table](https://skyserver.sdss.org/dr12/en/help/browser/browser.aspx#&&history=description+PhotoPrimary+V) provides measurements of dust extinction (e.g., \"extinction_g\") for each object in each of the 5 photometric filters: u,g,r,i, & z.  \n",
    "\n",
    "**Measure and plot the mean extinction as a function of galactic latitude, for each of the photometric filters.** (Overplotting each of the filter measurements on the same figure.)   **Is the amplitude of the dust extinction the same or different, in each wavlength band?**"
   ]
  },
  {
   "cell_type": "code",
   "execution_count": null,
   "metadata": {},
   "outputs": [],
   "source": [
    "# your code here"
   ]
  },
  {
   "cell_type": "markdown",
   "metadata": {},
   "source": [
    "#### Comment on your findings here."
   ]
  }
 ],
 "metadata": {
  "kernelspec": {
   "display_name": "Python 3",
   "language": "python",
   "name": "python3"
  },
  "language_info": {
   "codemirror_mode": {
    "name": "ipython",
    "version": 3
   },
   "file_extension": ".py",
   "mimetype": "text/x-python",
   "name": "python",
   "nbconvert_exporter": "python",
   "pygments_lexer": "ipython3",
   "version": "3.6.6"
  }
 },
 "nbformat": 4,
 "nbformat_minor": 2
}
